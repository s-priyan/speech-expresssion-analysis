{
 "cells": [
  {
   "cell_type": "code",
   "execution_count": 2,
   "metadata": {},
   "outputs": [
    {
     "name": "stderr",
     "output_type": "stream",
     "text": [
      "Using cache found in C:\\Users\\JOSEPH KURUVILLA/.cache\\torch\\hub\\pyannote_pyannote-audio_master\n",
      "Using cache found in C:\\Users\\JOSEPH KURUVILLA/.cache\\torch\\hub\\pyannote_pyannote-audio_master\n",
      "Using cache found in C:\\Users\\JOSEPH KURUVILLA/.cache\\torch\\hub\\pyannote_pyannote-audio_master\n",
      "Using cache found in C:\\Users\\JOSEPH KURUVILLA/.cache\\torch\\hub\\pyannote_pyannote-audio_master\n",
      "C:\\ProgramData\\Anaconda3\\envs\\pytorch_2\\lib\\site-packages\\pyannote\\audio\\embedding\\approaches\\arcface_loss.py:170: FutureWarning: The 's' parameter is deprecated in favor of 'scale', and will be removed in a future release\n",
      "  warnings.warn(msg, FutureWarning)\n",
      "Using cache found in C:\\Users\\JOSEPH KURUVILLA/.cache\\torch\\hub\\pyannote_pyannote-audio_master\n"
     ]
    }
   ],
   "source": [
    "import torch\n",
    "pipeline = torch.hub.load('pyannote/pyannote-audio', 'dia_ami')"
   ]
  },
  {
   "cell_type": "code",
   "execution_count": 45,
   "metadata": {},
   "outputs": [],
   "source": [
    "test_file = {'uri': 'filename', 'audio': 'F:/Boolean-Lab/speech-expresssion-analysis/demo-implementation/RC call records/20211014-143229_447598564519_442045187598#378_Automatic_732691738067.wav'}"
   ]
  },
  {
   "cell_type": "code",
   "execution_count": 46,
   "metadata": {},
   "outputs": [
    {
     "name": "stderr",
     "output_type": "stream",
     "text": [
      "C:\\ProgramData\\Anaconda3\\envs\\pytorch_2\\lib\\site-packages\\sklearn\\cluster\\_affinity_propagation.py:152: FutureWarning: 'random_state' has been introduced in 0.23. It will be set to None starting from 0.25 which means that results will differ at every function call. Set 'random_state' to None to silence this warning, or to 0 to keep the behavior of versions <0.23.\n",
      "  FutureWarning)\n"
     ]
    }
   ],
   "source": [
    "diarization = pipeline(test_file)"
   ]
  },
  {
   "cell_type": "code",
   "execution_count": 47,
   "metadata": {},
   "outputs": [
    {
     "data": {
      "image/png": "[encoded data removed]",
      "text/plain": [
       "<pyannote.core.annotation.Annotation at 0x20eb9956f48>"
      ]
     },
     "execution_count": 47,
     "metadata": {},
     "output_type": "execute_result"
    }
   ],
   "source": [
    "diarization"
   ]
  },
  {
   "cell_type": "code",
   "execution_count": 48,
   "metadata": {},
   "outputs": [
    {
     "data": {
      "text/plain": [
       "279.5883749999998"
      ]
     },
     "execution_count": 48,
     "metadata": {},
     "output_type": "execute_result"
    }
   ],
   "source": [
    "diarization.label_duration('A')"
   ]
  },
  {
   "cell_type": "code",
   "execution_count": 49,
   "metadata": {},
   "outputs": [
    {
     "data": {
      "text/plain": [
       "57.04762499999997"
      ]
     },
     "execution_count": 49,
     "metadata": {},
     "output_type": "execute_result"
    }
   ],
   "source": [
    "diarization.label_duration('B')"
   ]
  },
  {
   "cell_type": "code",
   "execution_count": 50,
   "metadata": {},
   "outputs": [],
   "source": [
    "uri = 'filename'"
   ]
  },
  {
   "cell_type": "code",
   "execution_count": 51,
   "metadata": {},
   "outputs": [
    {
     "name": "stdout",
     "output_type": "stream",
     "text": [
      "1.3247187500000002\n",
      "4.3217187500000005\n",
      "22.187281249999998\n",
      "26.74015625\n",
      "36.39771875\n",
      "37.31740625\n",
      "134.11746875\n",
      "139.98659375\n",
      "150.95534375\n",
      "180.23853125\n",
      "196.09934375\n",
      "205.49196874999998\n",
      "206.84534374999998\n",
      "216.71553125\n",
      "238.53153125\n",
      "256.99278125\n",
      "269.08371875\n",
      "276.59984375\n",
      "277.43178125\n",
      "286.66409375\n",
      "330.91371875000004\n",
      "339.00865624999994\n",
      "340.99315624999997\n",
      "346.91121875\n"
     ]
    }
   ],
   "source": [
    "for segment, _, label in diarization.itertracks(yield_label=True):\n",
    "    line = (\n",
    "        f\"SPEAKER {uri} 1 {segment.start:.3f} {segment.duration:.3f} \"\n",
    "        f\"<NA> <NA> {label} <NA> <NA>\\n\"\n",
    "    )\n",
    "    print(segment.start)\n",
    "    #print(line)"
   ]
  },
  {
   "cell_type": "code",
   "execution_count": 39,
   "metadata": {},
   "outputs": [],
   "source": [
    "with open(\"filename.rttm\",\"w\") as file:\n",
    "    diarization.write_rttm(file)"
   ]
  },
  {
   "cell_type": "code",
   "execution_count": 10,
   "metadata": {},
   "outputs": [],
   "source": [
    "from scipy.io import wavfile\n",
    " \n",
    "def trim_wav( originalWavPath, newWavPath , start, end ):\n",
    "    '''\n",
    "    :param originalWavPath: the path to the source wav file\n",
    "    :param newWavPath: output wav file * can be same path as original\n",
    "    :param start: time in seconds\n",
    "    :param end: time in seconds\n",
    "    :return:\n",
    "    '''\n",
    "    sampleRate, waveData = wavfile.read( originalWavPath )\n",
    "    startSample = int( start * sampleRate )\n",
    "    endSample = int( end * sampleRate )\n",
    "    Wav = waveData[startSample:endSample]\n",
    "    return Wav,sampleRate\n",
    "    #wavfile.write( newWavPath, sampleRate, waveData[startSample:endSample])"
   ]
  },
  {
   "cell_type": "code",
   "execution_count": 40,
   "metadata": {},
   "outputs": [],
   "source": [
    "from pydub import AudioSegment"
   ]
  },
  {
   "cell_type": "code",
   "execution_count": 41,
   "metadata": {},
   "outputs": [],
   "source": [
    "import scipy.io.wavfile as wavfile"
   ]
  },
  {
   "cell_type": "code",
   "execution_count": 52,
   "metadata": {},
   "outputs": [
    {
     "data": {
      "text/plain": [
       "<_io.BufferedRandom name='F:/Boolean-Lab/speech-expresssion-analysis/demo-implementation/trim-records/trimB.wav'>"
      ]
     },
     "execution_count": 52,
     "metadata": {},
     "output_type": "execute_result"
    }
   ],
   "source": [
    "originalWavPath = r'F:/Boolean-Lab/speech-expresssion-analysis/demo-implementation/RC call records/20211014-143229_447598564519_442045187598#378_Automatic_732691738067.wav'\n",
    "newWavPathA = r'F:/Boolean-Lab/speech-expresssion-analysis/demo-implementation/trim-records/trimA.wav'\n",
    "newWavPathB = r'F:/Boolean-Lab/speech-expresssion-analysis/demo-implementation/trim-records/trimB.wav'\n",
    "wav_A  = AudioSegment.from_wav(\"welcome.wav\")\n",
    "wav_B = AudioSegment.from_wav(\"welcome.wav\")\n",
    "segments_A = [wav_A]\n",
    "segments_B = [wav_B]\n",
    "combined_A = AudioSegment.empty()\n",
    "combined_B = AudioSegment.empty()\n",
    "for segment, _, label in diarization.itertracks(yield_label=True):\n",
    "    if label == 'A':\n",
    "        sampleRate, waveData = wavfile.read( originalWavPath )\n",
    "        startSample = int( segment.start * sampleRate )\n",
    "        endSample = int( segment.end * sampleRate )\n",
    "        Wav = waveData[startSample:endSample]\n",
    "        wavfile.write(f'diarization_cluster_A.wav', sampleRate, Wav)\n",
    "        wav_a = AudioSegment.from_wav('diarization_cluster_A.wav')\n",
    "        segments_A.append(wav_a)\n",
    "    elif label == 'B':\n",
    "        sampleRate, waveData = wavfile.read( originalWavPath )\n",
    "        startSample = int( segment.start * sampleRate )\n",
    "        endSample = int( segment.end * sampleRate )\n",
    "        Wav = waveData[startSample:endSample]\n",
    "        wavfile.write(f'diarization_cluster_B.wav', sampleRate, Wav)\n",
    "        wav_b = AudioSegment.from_wav('diarization_cluster_B.wav')\n",
    "        segments_B.append(wav_b)\n",
    "    #print(label)\n",
    "    \n",
    "for fname_a in segments_A:\n",
    "    combined_A += fname_a\n",
    "for fname_b in segments_B:\n",
    "    combined_B += fname_b\n",
    "combined_A.export(newWavPathA, format=\"wav\")\n",
    "combined_B.export(newWavPathB, format=\"wav\")\n",
    "# wavfile.write( newWavPathA, sampleRate, wav_A)        \n",
    "# wavfile.write( newWavPathB, sampleRate, wav_B) "
   ]
  },
  {
   "cell_type": "code",
   "execution_count": null,
   "metadata": {},
   "outputs": [],
   "source": []
  },
  {
   "cell_type": "code",
   "execution_count": null,
   "metadata": {},
   "outputs": [],
   "source": [
    "#!usr/local/bin/python\n",
    "import glob\n",
    "import sys\n",
    "import os\n",
    "\n",
    "from pydub import AudioSegment\n",
    "dirpath = \"news/\"\n",
    "headingsNewsDir = dirpath+\"2019-03-01/\"\n",
    "includeDir = dirpath+\"/include/\"\n",
    "generatedFile = \"combined_news_file.wav\"\n",
    "\n",
    "filenames = glob.glob(headingsNewsDir+'*.wav')\n",
    "welcome  = AudioSegment.from_wav(includeDir + \"welcome.wav\")\n",
    "thankyou = AudioSegment.from_wav(includeDir + \"thankyou.wav\")\n",
    "beep     = AudioSegment.from_wav(includeDir + \"beep.wav\")\n",
    "\n",
    "filenameswithbeep = [welcome, beep]\n",
    "combined = AudioSegment.empty()\n",
    "for filename in filenames:\n",
    "    audiofilename = AudioSegment.from_wav(filename)\n",
    "    filenameswithbeep.extend([audiofilename, beep])\n",
    "\n",
    "filenameswithbeep.extend([thankyou])\n",
    "\n",
    "for fname in filenameswithbeep:\n",
    "    combined += fname\n",
    "\n",
    "combined.export(headingsNewsDir + generatedFile, format=\"wav\")"
   ]
  },
  {
   "cell_type": "code",
   "execution_count": 52,
   "metadata": {},
   "outputs": [],
   "source": [
    "originalWavPath = r'F:/Boolean-Lab/speech-expresssion-analysis/demo-implementation/RC call records/20210909-123609_442039972724_442085209300_Automatic_723566154067.wav'\n",
    "newWavPath = r'F:/Boolean-Lab/speech-expresssion-analysis/demo-implementation/trim_records/trimB.wav'\n",
    "trim_wav(originalWavPath, newWavPath, 173.302,263.172)"
   ]
  }
 ],
 "metadata": {
  "kernelspec": {
   "display_name": "Python 3 (ipykernel)",
   "language": "python",
   "name": "python3"
  },
  "language_info": {
   "codemirror_mode": {
    "name": "ipython",
    "version": 3
   },
   "file_extension": ".py",
   "mimetype": "text/x-python",
   "name": "python",
   "nbconvert_exporter": "python",
   "pygments_lexer": "ipython3",
   "version": "3.7.3"
  }
 },
 "nbformat": 4,
 "nbformat_minor": 4
}
