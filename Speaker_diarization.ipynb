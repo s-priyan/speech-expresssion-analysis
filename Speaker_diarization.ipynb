{
 "cells": [
  {
   "cell_type": "code",
   "execution_count": 5,
   "metadata": {},
   "outputs": [],
   "source": [
    "from pyAudioAnalysis.audioSegmentation import speaker_diarization\n",
    "from pyAudioAnalysis.audioSegmentation import labels_to_segments\n",
    "from pyAudioAnalysis.audioBasicIO import read_audio_file, stereo_to_mono, convert_dir_mp3_to_wav"
   ]
  },
  {
   "cell_type": "code",
   "execution_count": 1,
   "metadata": {},
   "outputs": [],
   "source": [
    "import numpy as np\n",
    "import scipy.io.wavfile as wavfile\n",
    "import IPython\n",
    "import glob, sys, os\n",
    "from os import listdir\n",
    "from os.path import isfile, join"
   ]
  },
  {
   "cell_type": "code",
   "execution_count": 2,
   "metadata": {},
   "outputs": [],
   "source": [
    "mypath = \"F:/Boolean-Lab/speech-expresssion-analysis/demo-implementation/RC call records/\"\n",
    "\n",
    "onlyfiles = [join(mypath, f) for f in listdir(mypath) if isfile(join(mypath, f))][:-3]\n",
    "\n",
    "n_speakers = 2"
   ]
  },
  {
   "cell_type": "code",
   "execution_count": 4,
   "metadata": {},
   "outputs": [
    {
     "data": {
      "text/plain": [
       "16"
      ]
     },
     "execution_count": 4,
     "metadata": {},
     "output_type": "execute_result"
    }
   ],
   "source": [
    "len(onlyfiles)"
   ]
  },
  {
   "cell_type": "code",
   "execution_count": null,
   "metadata": {},
   "outputs": [],
   "source": [
    "for filename in onlyfiles:\n",
    "    fs, x = read_audio_file(filename)\n",
    "\n",
    "    cls = speaker_diarization(filename, n_speakers ,lda_dim=0,mid_window=2.0,mid_step=0.2, plot_res =True)\n",
    "\n",
    "\n",
    "    # save clusters to concatenated wav files\n",
    "    segs, c = labels_to_segments(cls,0.2)  # convert flags to segment limits\n",
    "    x_clusters = [np.zeros((fs, )) for i in range(n_speakers)]\n",
    "\n",
    "    for sp in range(n_speakers): \n",
    "        energy = 0\n",
    "        count_cl = 0\n",
    "        for i in range(len(c)):     # for each segment in each cluster (>2 secs long)\n",
    "            if c[i] == sp and segs[i, 1]-segs[i, 0] > 2:\n",
    "                count_cl += 1\n",
    "                # get the signal and append it to the cluster's signal (followed by some silence)\n",
    "                cur_x = x[int(segs[i, 0] * fs): int(segs[i, 1] * fs)]\n",
    "                energy+= (np.mean(np.absolute(cur_x)))**2\n",
    "                x_clusters[sp] = np.append(x_clusters[sp], cur_x)\n",
    "                x_clusters[sp] = np.append(x_clusters[sp], np.zeros((fs,)))\n",
    "        # write cluster's signal into a WAV file\n",
    "        print(f'speaker {sp}: {count_cl} segments {len(x_clusters[sp])/float(fs)} sec total dur')  \n",
    "        print(energy/count_cl)\n",
    "        wavfile.write(f'diarization_cluster_{sp}.wav', fs, np.int16(x_clusters[sp]))\n",
    "        IPython.display.display(IPython.display.Audio(f'diarization_cluster_{sp}.wav'))"
   ]
  },
  {
   "cell_type": "code",
   "execution_count": 6,
   "metadata": {},
   "outputs": [],
   "source": [
    "mypath = \"F:/Boolean-Lab/speech-expresssion-analysis/demo-implementation/RC call records/\"\n",
    "\n",
    "onlyfiles = [join(mypath, f) for f in listdir(mypath) if isfile(join(mypath, f))][:-3]"
   ]
  },
  {
   "cell_type": "code",
   "execution_count": 8,
   "metadata": {},
   "outputs": [],
   "source": [
    "fs, x = read_audio_file(onlyfiles[0])"
   ]
  },
  {
   "cell_type": "code",
   "execution_count": 12,
   "metadata": {},
   "outputs": [],
   "source": [
    "import matplotlib.pyplot as plt"
   ]
  },
  {
   "cell_type": "code",
   "execution_count": 15,
   "metadata": {},
   "outputs": [
    {
     "data": {
      "image/png": "[encoded data removed]",
      "text/plain": [
       "<Figure size 432x288 with 1 Axes>"
      ]
     },
     "metadata": {
      "needs_background": "light"
     },
     "output_type": "display_data"
    }
   ],
   "source": [
    "plt.plot(x) # plotting by columns\n",
    "plt.show()"
   ]
  },
  {
   "cell_type": "code",
   "execution_count": null,
   "metadata": {},
   "outputs": [],
   "source": [
    "#demo of IBM watson\n",
    "#https://speech-to-text-demo.ng.bluemix.net/"
   ]
  }
 ],
 "metadata": {
  "kernelspec": {
   "display_name": "Python 3",
   "language": "python",
   "name": "python3"
  },
  "language_info": {
   "codemirror_mode": {
    "name": "ipython",
    "version": 3
   },
   "file_extension": ".py",
   "mimetype": "text/x-python",
   "name": "python",
   "nbconvert_exporter": "python",
   "pygments_lexer": "ipython3",
   "version": "3.7.10"
  }
 },
 "nbformat": 4,
 "nbformat_minor": 4
}
