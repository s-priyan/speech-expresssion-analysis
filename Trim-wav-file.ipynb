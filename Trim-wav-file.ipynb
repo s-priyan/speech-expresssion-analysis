{
 "cells": [
  {
   "cell_type": "code",
   "execution_count": 1,
   "metadata": {},
   "outputs": [],
   "source": [
    "from scipy.io import wavfile\n",
    " \n",
    "def trim_wav( originalWavPath, newWavPath , start, end ):\n",
    "    '''\n",
    "    :param originalWavPath: the path to the source wav file\n",
    "    :param newWavPath: output wav file * can be same path as original\n",
    "    :param start: time in seconds\n",
    "    :param end: time in seconds\n",
    "    :return:\n",
    "    '''\n",
    "    sampleRate, waveData = wavfile.read( originalWavPath )\n",
    "    startSample = int( start * sampleRate )\n",
    "    endSample = int( end * sampleRate )\n",
    "    wavfile.write( newWavPath, sampleRate, waveData[startSample:endSample])"
   ]
  },
  {
   "cell_type": "code",
   "execution_count": 2,
   "metadata": {},
   "outputs": [],
   "source": [
    "originalWavPath = \"F:/Boolean-Lab/speech-expresssion-analysis/demo-implementation/RC call records/20210909-123609_442039972724_442085209300_Automatic_723566154067.wav\""
   ]
  },
  {
   "cell_type": "code",
   "execution_count": 3,
   "metadata": {},
   "outputs": [],
   "source": [
    "sampleRate, waveData = wavfile.read( originalWavPath )"
   ]
  },
  {
   "cell_type": "code",
   "execution_count": 4,
   "metadata": {},
   "outputs": [
    {
     "data": {
      "text/plain": [
       "8000"
      ]
     },
     "execution_count": 4,
     "metadata": {},
     "output_type": "execute_result"
    }
   ],
   "source": [
    "sampleRate"
   ]
  },
  {
   "cell_type": "code",
   "execution_count": 5,
   "metadata": {},
   "outputs": [
    {
     "data": {
      "text/plain": [
       "array([   1, -253, -525, ...,   12,    4,    9], dtype=int16)"
      ]
     },
     "execution_count": 5,
     "metadata": {},
     "output_type": "execute_result"
    }
   ],
   "source": [
    "waveData"
   ]
  },
  {
   "cell_type": "code",
   "execution_count": null,
   "metadata": {},
   "outputs": [],
   "source": []
  }
 ],
 "metadata": {
  "kernelspec": {
   "display_name": "Python 3",
   "language": "python",
   "name": "python3"
  },
  "language_info": {
   "codemirror_mode": {
    "name": "ipython",
    "version": 3
   },
   "file_extension": ".py",
   "mimetype": "text/x-python",
   "name": "python",
   "nbconvert_exporter": "python",
   "pygments_lexer": "ipython3",
   "version": "3.7.10"
  }
 },
 "nbformat": 4,
 "nbformat_minor": 4
}
