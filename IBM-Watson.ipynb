{
 "cells": [
  {
   "cell_type": "code",
   "execution_count": 1,
   "metadata": {},
   "outputs": [],
   "source": [
    "import json"
   ]
  },
  {
   "cell_type": "code",
   "execution_count": 2,
   "metadata": {},
   "outputs": [],
   "source": [
    "from os.path import join, dirname\n",
    "from ibm_watson import SpeechToTextV1\n",
    "from ibm_watson.websocket import RecognizeCallback, AudioSource"
   ]
  },
  {
   "cell_type": "code",
   "execution_count": 3,
   "metadata": {},
   "outputs": [],
   "source": [
    "import threading\n",
    "from ibm_cloud_sdk_core.authenticators import IAMAuthenticator\n",
    "import pandas as pd"
   ]
  },
  {
   "cell_type": "code",
   "execution_count": 4,
   "metadata": {},
   "outputs": [],
   "source": [
    "authenticator = IAMAuthenticator(\"TV_4eGc6BAyMwhHXYXQM32545uTaNB4EquRKnN9BQX4w\")\n",
    "service = SpeechToTextV1(authenticator=authenticator)\n",
    "service.set_service_url('https://api.us-south.speech-to-text.watson.cloud.ibm.com/instances/24ac02e4-9660-4ee2-905c-95b2aa1b6b66')"
   ]
  },
  {
   "cell_type": "code",
   "execution_count": 18,
   "metadata": {},
   "outputs": [],
   "source": [
    "originalWavPath = r'F:/Boolean-Lab/speech-expresssion-analysis/demo-implementation/__file__/testing-audio.wav'"
   ]
  },
  {
   "cell_type": "code",
   "execution_count": 19,
   "metadata": {},
   "outputs": [],
   "source": [
    "models = service.list_models().get_result()\n",
    "#print(json.dumps(models, indent=2))\n",
    "\n",
    "model = service.get_model('en-US_BroadbandModel').get_result()\n",
    "#print(json.dumps(model, indent=2))\n",
    "\n",
    "with open(originalWavPath,'rb') as audio_file:\n",
    "#    print(json.dumps(\n",
    "    output = service.recognize(\n",
    "    audio=audio_file,\n",
    "    speaker_labels=True,\n",
    "    content_type='audio/wav',\n",
    "    #timestamps=True,\n",
    "    #word_confidence=True,\n",
    "    model='en-US_NarrowbandModel').get_result(),\n",
    "    indent=2\n",
    "df_1 = pd.DataFrame([i for elts in output for alts in elts['results'] for i in alts['alternatives']])\n",
    "df_2 = pd.DataFrame([i for elts in output for i in elts['speaker_labels']])"
   ]
  },
  {
   "cell_type": "code",
   "execution_count": 186,
   "metadata": {},
   "outputs": [
    {
     "data": {
      "text/html": [
       "<div>\n",
       "<style scoped>\n",
       "    .dataframe tbody tr th:only-of-type {\n",
       "        vertical-align: middle;\n",
       "    }\n",
       "\n",
       "    .dataframe tbody tr th {\n",
       "        vertical-align: top;\n",
       "    }\n",
       "\n",
       "    .dataframe thead th {\n",
       "        text-align: right;\n",
       "    }\n",
       "</style>\n",
       "<table border=\"1\" class=\"dataframe\">\n",
       "  <thead>\n",
       "    <tr style=\"text-align: right;\">\n",
       "      <th></th>\n",
       "      <th>from</th>\n",
       "      <th>to</th>\n",
       "      <th>speaker</th>\n",
       "      <th>confidence</th>\n",
       "      <th>final</th>\n",
       "    </tr>\n",
       "  </thead>\n",
       "  <tbody>\n",
       "    <tr>\n",
       "      <th>0</th>\n",
       "      <td>1.35</td>\n",
       "      <td>1.50</td>\n",
       "      <td>0</td>\n",
       "      <td>0.27</td>\n",
       "      <td>False</td>\n",
       "    </tr>\n",
       "    <tr>\n",
       "      <th>1</th>\n",
       "      <td>1.50</td>\n",
       "      <td>1.88</td>\n",
       "      <td>0</td>\n",
       "      <td>0.27</td>\n",
       "      <td>False</td>\n",
       "    </tr>\n",
       "    <tr>\n",
       "      <th>2</th>\n",
       "      <td>1.88</td>\n",
       "      <td>1.99</td>\n",
       "      <td>0</td>\n",
       "      <td>0.27</td>\n",
       "      <td>False</td>\n",
       "    </tr>\n",
       "    <tr>\n",
       "      <th>3</th>\n",
       "      <td>1.99</td>\n",
       "      <td>2.12</td>\n",
       "      <td>0</td>\n",
       "      <td>0.27</td>\n",
       "      <td>False</td>\n",
       "    </tr>\n",
       "    <tr>\n",
       "      <th>4</th>\n",
       "      <td>2.12</td>\n",
       "      <td>2.35</td>\n",
       "      <td>0</td>\n",
       "      <td>0.27</td>\n",
       "      <td>False</td>\n",
       "    </tr>\n",
       "    <tr>\n",
       "      <th>...</th>\n",
       "      <td>...</td>\n",
       "      <td>...</td>\n",
       "      <td>...</td>\n",
       "      <td>...</td>\n",
       "      <td>...</td>\n",
       "    </tr>\n",
       "    <tr>\n",
       "      <th>1036</th>\n",
       "      <td>357.81</td>\n",
       "      <td>358.02</td>\n",
       "      <td>2</td>\n",
       "      <td>0.63</td>\n",
       "      <td>False</td>\n",
       "    </tr>\n",
       "    <tr>\n",
       "      <th>1037</th>\n",
       "      <td>358.02</td>\n",
       "      <td>358.17</td>\n",
       "      <td>2</td>\n",
       "      <td>0.63</td>\n",
       "      <td>False</td>\n",
       "    </tr>\n",
       "    <tr>\n",
       "      <th>1038</th>\n",
       "      <td>358.17</td>\n",
       "      <td>358.53</td>\n",
       "      <td>2</td>\n",
       "      <td>0.63</td>\n",
       "      <td>False</td>\n",
       "    </tr>\n",
       "    <tr>\n",
       "      <th>1039</th>\n",
       "      <td>358.56</td>\n",
       "      <td>358.68</td>\n",
       "      <td>0</td>\n",
       "      <td>0.41</td>\n",
       "      <td>False</td>\n",
       "    </tr>\n",
       "    <tr>\n",
       "      <th>1040</th>\n",
       "      <td>358.68</td>\n",
       "      <td>359.07</td>\n",
       "      <td>0</td>\n",
       "      <td>0.41</td>\n",
       "      <td>True</td>\n",
       "    </tr>\n",
       "  </tbody>\n",
       "</table>\n",
       "<p>1041 rows × 5 columns</p>\n",
       "</div>"
      ],
      "text/plain": [
       "        from      to  speaker  confidence  final\n",
       "0       1.35    1.50        0        0.27  False\n",
       "1       1.50    1.88        0        0.27  False\n",
       "2       1.88    1.99        0        0.27  False\n",
       "3       1.99    2.12        0        0.27  False\n",
       "4       2.12    2.35        0        0.27  False\n",
       "...      ...     ...      ...         ...    ...\n",
       "1036  357.81  358.02        2        0.63  False\n",
       "1037  358.02  358.17        2        0.63  False\n",
       "1038  358.17  358.53        2        0.63  False\n",
       "1039  358.56  358.68        0        0.41  False\n",
       "1040  358.68  359.07        0        0.41   True\n",
       "\n",
       "[1041 rows x 5 columns]"
      ]
     },
     "execution_count": 186,
     "metadata": {},
     "output_type": "execute_result"
    }
   ],
   "source": [
    "df_2"
   ]
  },
  {
   "cell_type": "code",
   "execution_count": 177,
   "metadata": {},
   "outputs": [
    {
     "data": {
      "text/plain": [
       "array([0, 2], dtype=int64)"
      ]
     },
     "execution_count": 177,
     "metadata": {},
     "output_type": "execute_result"
    }
   ],
   "source": [
    "df_2['speaker'].unique()"
   ]
  },
  {
   "cell_type": "code",
   "execution_count": 178,
   "metadata": {},
   "outputs": [],
   "source": [
    "from pydub import AudioSegment"
   ]
  },
  {
   "cell_type": "code",
   "execution_count": 179,
   "metadata": {},
   "outputs": [],
   "source": [
    "import scipy.io.wavfile as wavfile"
   ]
  },
  {
   "cell_type": "code",
   "execution_count": 180,
   "metadata": {},
   "outputs": [
    {
     "data": {
      "text/plain": [
       "<_io.BufferedRandom name='F:/Boolean-Lab/speech-expresssion-analysis/demo-implementation/__file__/trimB.wav'>"
      ]
     },
     "execution_count": 180,
     "metadata": {},
     "output_type": "execute_result"
    }
   ],
   "source": [
    "newWavPathA = r'F:/Boolean-Lab/speech-expresssion-analysis/demo-implementation/__file__/trimA.wav'\n",
    "newWavPathB = r'F:/Boolean-Lab/speech-expresssion-analysis/demo-implementation/__file__/trimB.wav'\n",
    "wav_A  = AudioSegment.from_wav(\"welcome.wav\")\n",
    "wav_B = AudioSegment.from_wav(\"welcome.wav\")\n",
    "segments_A = [wav_A]\n",
    "segments_B = [wav_B]\n",
    "combined_A = AudioSegment.empty()\n",
    "combined_B = AudioSegment.empty()\n",
    "for a in range (len(df_2)):\n",
    "    if df_2['speaker'][a] == 0:\n",
    "        sampleRate, waveData = wavfile.read( originalWavPath )\n",
    "        startSample = int( df_2['from'][a] * sampleRate )\n",
    "        endSample = int( df_2['to'][a] * sampleRate )\n",
    "        Wav = waveData[startSample:endSample]\n",
    "        wavfile.write(f'diarization_cluster_A.wav', sampleRate, Wav)\n",
    "        wav_a = AudioSegment.from_wav('diarization_cluster_A.wav')\n",
    "        segments_A.append(wav_a)\n",
    "    elif df_2['speaker'][a] == 2:\n",
    "        sampleRate, waveData = wavfile.read( originalWavPath )\n",
    "        startSample = int( df_2['from'][a] * sampleRate )\n",
    "        endSample = int(  df_2['to'][a] * sampleRate )\n",
    "        Wav = waveData[startSample:endSample]\n",
    "        wavfile.write(f'diarization_cluster_B.wav', sampleRate, Wav)\n",
    "        wav_b = AudioSegment.from_wav('diarization_cluster_B.wav')\n",
    "        segments_B.append(wav_b)\n",
    "    #print(label)\n",
    "    \n",
    "for fname_a in segments_A:\n",
    "    combined_A += fname_a\n",
    "for fname_b in segments_B:\n",
    "    combined_B += fname_b\n",
    "combined_A.export(newWavPathA, format=\"wav\")\n",
    "combined_B.export(newWavPathB, format=\"wav\")\n",
    "# wavfile.write( newWavPathA, sampleRate, wav_A)        \n",
    "# wavfile.write( newWavPathB, sampleRate, wav_B) "
   ]
  },
  {
   "cell_type": "code",
   "execution_count": null,
   "metadata": {},
   "outputs": [],
   "source": []
  }
 ],
 "metadata": {
  "kernelspec": {
   "display_name": "Python 3",
   "language": "python",
   "name": "python3"
  },
  "language_info": {
   "codemirror_mode": {
    "name": "ipython",
    "version": 3
   },
   "file_extension": ".py",
   "mimetype": "text/x-python",
   "name": "python",
   "nbconvert_exporter": "python",
   "pygments_lexer": "ipython3",
   "version": "3.7.10"
  }
 },
 "nbformat": 4,
 "nbformat_minor": 4
}
